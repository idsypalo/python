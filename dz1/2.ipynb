{
 "cells": [
  {
   "cell_type": "code",
   "execution_count": 1,
   "metadata": {},
   "outputs": [
    {
     "name": "stdout",
     "output_type": "stream",
     "text": [
      "вывод простых чисел до числа 10\n",
      "[2, 3, 5, 7]\n"
     ]
    }
   ],
   "source": [
    "n = int(input(\"вывод простых чисел до числа \"))\n",
    "a = [0] * n \n",
    "for i in range(n): \n",
    "    a[i] = i\n",
    "    \n",
    "a[1] = 0\n",
    " \n",
    "m = 2 \n",
    "while m < n:\n",
    "    if a[m] != 0:\n",
    "        j = m * 2\n",
    "        while j < n:\n",
    "            a[j] = 0 \n",
    "            j = j + m\n",
    "    m += 1 \n",
    "b = []\n",
    "for i in a:\n",
    "    if a[i] != 0:\n",
    "        b.append(a[i])\n",
    "print (b)"
   ]
  },
  {
   "cell_type": "code",
   "execution_count": null,
   "metadata": {
    "collapsed": true
   },
   "outputs": [],
   "source": []
  }
 ],
 "metadata": {
  "kernelspec": {
   "display_name": "Python 3",
   "language": "python",
   "name": "python3"
  },
  "language_info": {
   "codemirror_mode": {
    "name": "ipython",
    "version": 3
   },
   "file_extension": ".py",
   "mimetype": "text/x-python",
   "name": "python",
   "nbconvert_exporter": "python",
   "pygments_lexer": "ipython3",
   "version": "3.6.1"
  }
 },
 "nbformat": 4,
 "nbformat_minor": 2
}
