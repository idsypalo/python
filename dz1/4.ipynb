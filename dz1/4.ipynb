{
 "cells": [
  {
   "cell_type": "code",
   "execution_count": 4,
   "metadata": {},
   "outputs": [
    {
     "name": "stdout",
     "output_type": "stream",
     "text": [
      "Введите коэффициенты для квадратного уравнения (ax^2 + bx + c = 0):\n",
      "a = 1\n",
      "b = 2\n",
      "c = -3\n",
      "Дискриминант D = 16.0000\n",
      "x1 = 1.0000 \n",
      "x2 = -3.0000\n"
     ]
    }
   ],
   "source": [
    "import math\n",
    "print(\"введите коэффициенты для уравнения (ax^2 + bx + c = 0):\")\n",
    "a = float(input(\"a = \"))\n",
    "b = float(input(\"b = \"))\n",
    "c = float(input(\"c = \"))\n",
    "\n",
    "discr = b**2 - 4 * a * c;\n",
    "print(\"дискриминант D = %.4f\" % discr)\n",
    "if discr > 0:\n",
    "    x1 = (-b + math.sqrt(discr)) / (2 * a)\n",
    "    x2 = (-b - math.sqrt(discr)) / (2 * a)\n",
    "    print(\"x1 = %.4f \\nx2 = %.4f\" % (x1, x2))\n",
    "elif discr == 0:\n",
    "    x = -b / (2 * a)\n",
    "    print(\"x = %.4f\" % x)\n",
    "else:\n",
    "    print(\"корней нет\")"
   ]
  },
  {
   "cell_type": "code",
   "execution_count": null,
   "metadata": {
    "collapsed": true
   },
   "outputs": [],
   "source": []
  }
 ],
 "metadata": {
  "kernelspec": {
   "display_name": "Python 3",
   "language": "python",
   "name": "python3"
  },
  "language_info": {
   "codemirror_mode": {
    "name": "ipython",
    "version": 3
   },
   "file_extension": ".py",
   "mimetype": "text/x-python",
   "name": "python",
   "nbconvert_exporter": "python",
   "pygments_lexer": "ipython3",
   "version": "3.6.1"
  }
 },
 "nbformat": 4,
 "nbformat_minor": 2
}
