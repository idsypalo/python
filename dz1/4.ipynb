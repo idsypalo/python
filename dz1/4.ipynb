{
 "cells": [
  {
   "cell_type": "code",
   "execution_count": 8,
   "metadata": {},
   "outputs": [
    {
     "name": "stdout",
     "output_type": "stream",
     "text": [
      "введите значения для уравнения - (ax^2 + bx + c = 0):\n",
      "Введите значение a= -2\n",
      "Введите значение b= 54\n",
      "Введите значение c= 100\n",
      "3716\n",
      "-1.739750654128171\n",
      "28.739750654128173\n"
     ]
    }
   ],
   "source": [
    "import math\n",
    "print(\"введите значения для уравнения - (ax^2 + bx + c = 0):\")\n",
    "a = int(input(\"Введите значение a= \"))\n",
    "b = int(input(\"Введите значение b= \"))\n",
    "c = int(input(\"Введите значение c= \"))\n",
    "D = b ** 2 - 4 * a * c\n",
    "print(D)\n",
    "if D < 0:\n",
    "    print(\"Корней нет\")\n",
    "elif D == 0:\n",
    "    x = -b / 2 * a\n",
    "    print (x)\n",
    "else:\n",
    "    x1 = (-b + math.sqrt(D)) / (2 * a)\n",
    "    x2 = (-b - math.sqrt(D)) / (2 * a)\n",
    "    print(x1)\n",
    "    print(x2)"
   ]
  },
  {
   "cell_type": "code",
   "execution_count": null,
   "metadata": {
    "collapsed": true
   },
   "outputs": [],
   "source": []
  }
 ],
 "metadata": {
  "kernelspec": {
   "display_name": "Python 3",
   "language": "python",
   "name": "python3"
  },
  "language_info": {
   "codemirror_mode": {
    "name": "ipython",
    "version": 3
   },
   "file_extension": ".py",
   "mimetype": "text/x-python",
   "name": "python",
   "nbconvert_exporter": "python",
   "pygments_lexer": "ipython3",
   "version": "3.6.1"
  }
 },
 "nbformat": 4,
 "nbformat_minor": 2
}
