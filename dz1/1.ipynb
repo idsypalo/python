{
 "cells": [
  {
   "cell_type": "code",
   "execution_count": 14,
   "metadata": {},
   "outputs": [
    {
     "name": "stdout",
     "output_type": "stream",
     "text": [
      "Длины сторон треугольника:\n",
      "a = 2\n",
      "b = 3\n",
      "c = 4\n",
      "Площадь: 2.9047\n"
     ]
    }
   ],
   "source": [
    "print(\"Длины сторон треугольника:\")\n",
    "a = float(input(\"a = \"))\n",
    "b = float(input(\"b = \"))\n",
    "c = float(input(\"c = \"))\n",
    "p = (a + b + c) / 2\n",
    "import math\n",
    "s = math.sqrt(p * (p - a) * (p - b) * (p - c))\n",
    "print(\"Площадь: %.4f\" % s)"
   ]
  }
 ],
 "metadata": {
  "kernelspec": {
   "display_name": "Python 3",
   "language": "python",
   "name": "python3"
  },
  "language_info": {
   "codemirror_mode": {
    "name": "ipython",
    "version": 3
   },
   "file_extension": ".py",
   "mimetype": "text/x-python",
   "name": "python",
   "nbconvert_exporter": "python",
   "pygments_lexer": "ipython3",
   "version": "3.6.1"
  }
 },
 "nbformat": 4,
 "nbformat_minor": 2
}
