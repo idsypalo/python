{
 "cells": [
  {
   "cell_type": "code",
   "execution_count": 54,
   "metadata": {},
   "outputs": [
    {
     "name": "stdout",
     "output_type": "stream",
     "text": [
      "средняя сумма долга = 5.50\n",
      "абсолютная сумма долга = 55.00\n",
      "дисперсия = 8.2500\n",
      "максимальный долг= name10\n",
      "минимальный долг= name1\n",
      "ближе всего к среднему= name5\n"
     ]
    }
   ],
   "source": [
    "cho = {'name1': 1, 'name2': 2, 'name3': 3, 'name4': 4,'name5': 5, 'name6': 6, 'name7': 7, 'name8': 8, 'name9': 9, 'name10': 10}\n",
    "cho_val = list(cho.values())\n",
    "sr=sum([int(cho[key]) for key in cho.keys()])/len(cho)\n",
    "print(\"средняя сумма долга = %.2f\"%(sr))\n",
    "print(\"абсолютная сумма долга = %.2f\"%abs(sum([int(cho[key]) for key in cho.keys()])))\n",
    "m = sum(cho_val ) / len(cho_val )\n",
    "disper = sum([(xi - m)**2 for xi in cho_val ]) / len(cho_val )\n",
    "cho_otkl = {key:abs(cho[key]-sr) for key in cho.keys()}\n",
    "print(\"дисперсия = %.4f\"%disper)\n",
    "print(\"максимальный долг=\", max(cho, key=cho.get))\n",
    "print(\"минимальный долг=\", min(cho, key=cho.get))\n",
    "print(\"ближе всего к среднему=\", min(cho_otkl, key=cho_otkl.get))"
   ]
  },
  {
   "cell_type": "code",
   "execution_count": null,
   "metadata": {
    "collapsed": true
   },
   "outputs": [],
   "source": []
  }
 ],
 "metadata": {
  "kernelspec": {
   "display_name": "Python 3",
   "language": "python",
   "name": "python3"
  },
  "language_info": {
   "codemirror_mode": {
    "name": "ipython",
    "version": 3
   },
   "file_extension": ".py",
   "mimetype": "text/x-python",
   "name": "python",
   "nbconvert_exporter": "python",
   "pygments_lexer": "ipython3",
   "version": "3.6.1"
  }
 },
 "nbformat": 4,
 "nbformat_minor": 2
}
